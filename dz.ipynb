package com.company;
import java.util.Scanner;

public class Main {

    public static void main(String[] args) {
        long left = 0;
        long right = 2_147_483_646;
        long middle;
        middle=(left+right)/2;
        System.out.println("Загадайте число от 0 до 2_147_483_646");
        while (right > 0) {
            System.out.println("Это число больше "+middle);
            Scanner scanner= new Scanner(System.in);
            System.out.print("Введите 1-если да, 0-нет, 2-это и есть это число ");
            int i=scanner.nextInt();
            if (i==1){
                left=middle;
                middle=(left+right)/2;
            }else if(i==0){
                right=middle;
                middle=(left+right)/2;
            }else{
                System.out.println("Ваше число "+middle);
                break;
            }
        }
    }
}
